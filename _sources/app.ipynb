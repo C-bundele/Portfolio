{
 "cells": [
  {
   "cell_type": "markdown",
   "metadata": {},
   "source": [
    "# Streamlit application Code"
   ]
  },
  {
   "cell_type": "code",
   "execution_count": null,
   "metadata": {},
   "outputs": [],
   "source": [
    "import streamlit as st\n",
    "import numpy as np\n",
    "import requests\n",
    "\n",
    "# Initialize the Streamlit app\n",
    "st.title(\"Diabetes Prediction App\")\n",
    "\n",
    "# Input fields for user data\n",
    "st.sidebar.header(\"Enter Patient Data\")\n",
    "pregnancies = st.sidebar.number_input(\"Pregnancies\", min_value=0, max_value=20, value=0)\n",
    "glucose = st.sidebar.number_input(\"Glucose Level\", min_value=0.0, max_value=300.0, value=0.0)\n",
    "blood_pressure = st.sidebar.number_input(\"Blood Pressure\", min_value=0.0, max_value=200.0, value=80.0)\n",
    "skin_thickness = st.sidebar.number_input(\"Skin Thickness\", min_value=0.0, max_value=100.0, value=21.0)\n",
    "insulin = st.sidebar.number_input(\"Insulin Level\", min_value=0.0, max_value=900.0, value=90.0)\n",
    "bmi = st.sidebar.number_input(\"BMI\", min_value=0.0, max_value=100.0, value=0.0)\n",
    "dpf = st.sidebar.number_input(\"Diabetes Pedigree Function (DPF)\", min_value=0.0, max_value=3.0, value=0.2)\n",
    "age = st.sidebar.number_input(\"Age\", min_value=1, max_value=120, value=2)\n",
    "\n",
    "# Create user input as a dictionary\n",
    "user_input = {\n",
    "    \"pregnancies\": pregnancies,\n",
    "    \"glucose\": glucose,\n",
    "    \"blood_pressure\": blood_pressure,\n",
    "    \"skin_thickness\": skin_thickness,\n",
    "    \"insulin\": insulin,\n",
    "    \"bmi\": bmi,\n",
    "    \"dpf\": dpf,\n",
    "    \"age\": age\n",
    "}\n",
    "\n",
    "# Prediction button\n",
    "if st.button(\"Predict\"):\n",
    "    try:\n",
    "        # Define the API URL\n",
    "        url = \"http://18.220.58.196:8000/predict\"\n",
    "\n",
    "        # Send the POST request with the dictionary as JSON\n",
    "        response = requests.post(url, json=user_input)  # Send the input as JSON\n",
    "\n",
    "        # Check the response status and output\n",
    "        if response.status_code == 200:\n",
    "            prediction = response.json()[\"prediction\"]\n",
    "            print(prediction)\n",
    "            st.success(prediction)\n",
    "        else:\n",
    "            st.error(f\"Error: {response.status_code}, {response.text}\")\n",
    "\n",
    "    except Exception as e:\n",
    "        st.error(f\"An error occurred during prediction: {e}\")\n"
   ]
  }
 ],
 "metadata": {
  "kernelspec": {
   "display_name": "Python 3",
   "language": "python",
   "name": "python3"
  },
  "language_info": {
   "name": "python",
   "version": "3.12.2"
  }
 },
 "nbformat": 4,
 "nbformat_minor": 2
}
